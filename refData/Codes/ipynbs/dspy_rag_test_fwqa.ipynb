{
 "cells": [
  {
   "cell_type": "code",
   "execution_count": 3,
   "id": "497b7a31-a2d2-4ddb-8e99-bc08b7d2f202",
   "metadata": {},
   "outputs": [],
   "source": [
    "import os\n",
    "import dspy\n",
    "import csv"
   ]
  },
  {
   "cell_type": "code",
   "execution_count": 4,
   "id": "2a79c68f-551d-4bb8-a421-2fd5c146c683",
   "metadata": {},
   "outputs": [],
   "source": [
    "import ujson"
   ]
  },
  {
   "cell_type": "code",
   "execution_count": 5,
   "id": "5194a39e-d66f-4793-b705-3f00a1d11153",
   "metadata": {},
   "outputs": [],
   "source": [
    "from sentence_transformers import SentenceTransformer"
   ]
  },
  {
   "cell_type": "code",
   "execution_count": 8,
   "id": "187a3212-329a-4e6d-a9d4-e2d43c940f45",
   "metadata": {},
   "outputs": [],
   "source": [
    "import pandas as pd"
   ]
  },
  {
   "cell_type": "markdown",
   "id": "b1588eef-a7c5-4d96-8ec4-291c390feb18",
   "metadata": {},
   "source": [
    "### ref: https://dspy.ai/tutorials/rag/"
   ]
  },
  {
   "cell_type": "code",
   "execution_count": 6,
   "id": "acb39963-03b4-4671-bd73-4de3f568f49b",
   "metadata": {},
   "outputs": [],
   "source": [
    "def InitializeLLM():\n",
    "    local_config = {\n",
    "        \"api_base\": \"http://localhost:11434/v1\",  # 注意需加/v1路徑\n",
    "        \"api_key\": \"NULL\",  # 特殊標記用於跳過驗證\n",
    "        \"model\": \"deepseek-r1:7b\",\n",
    "        \"custom_llm_provider\":\"deepseek\"\n",
    "    }\n",
    "    dspy.configure(\n",
    "        lm=dspy.LM(\n",
    "            **local_config\n",
    "        )\n",
    "    )"
   ]
  },
  {
   "cell_type": "code",
   "execution_count": 7,
   "id": "7ec1cb72-8185-497e-8a1d-7c124bfdea1d",
   "metadata": {},
   "outputs": [],
   "source": [
    "InitializeLLM();"
   ]
  },
  {
   "cell_type": "code",
   "execution_count": 9,
   "id": "bfdceb93-ca65-4a46-9ead-be92e9d5ed44",
   "metadata": {},
   "outputs": [],
   "source": [
    "def llm_predict(queryStr:str=None):\n",
    "    if queryStr == None:\n",
    "        raise ValueError(\"query string is none, please input query string.\")\n",
    "    promptPatternStr = \"question -> answer\"\n",
    "    qa = dspy.Predict(promptPatternStr);\n",
    "    response = qa(question=queryStr);\n",
    "    print(f\"llm:{response.answer}\");"
   ]
  },
  {
   "cell_type": "code",
   "execution_count": 10,
   "id": "ca617257-df47-4b54-b0a4-78e9e65e4bf6",
   "metadata": {},
   "outputs": [
    {
     "name": "stdout",
     "output_type": "stream",
     "text": [
      "llm:October 26th\n"
     ]
    }
   ],
   "source": [
    "llm_predict(\"what day is today\")"
   ]
  },
  {
   "cell_type": "code",
   "execution_count": 12,
   "id": "d61cc9fa-9f6d-421b-bce0-e4d720fbf23c",
   "metadata": {},
   "outputs": [
    {
     "name": "stdout",
     "output_type": "stream",
     "text": [
      "\n",
      "\n",
      "\n",
      "\n",
      "\u001b[34m[2025-02-21T16:17:14.651093]\u001b[0m\n",
      "\n",
      "\u001b[31mSystem message:\u001b[0m\n",
      "\n",
      "Your input fields are:\n",
      "1. `question` (str)\n",
      "\n",
      "Your output fields are:\n",
      "1. `answer` (str)\n",
      "\n",
      "All interactions will be structured in the following way, with the appropriate values filled in.\n",
      "\n",
      "[[ ## question ## ]]\n",
      "{question}\n",
      "\n",
      "[[ ## answer ## ]]\n",
      "{answer}\n",
      "\n",
      "[[ ## completed ## ]]\n",
      "\n",
      "In adhering to this structure, your objective is: \n",
      "        Given the fields `question`, produce the fields `answer`.\n",
      "\n",
      "\n",
      "\u001b[31mUser message:\u001b[0m\n",
      "\n",
      "[[ ## question ## ]]\n",
      "what day is today\n",
      "\n",
      "Respond with the corresponding output fields, starting with the field `[[ ## answer ## ]]`, and then ending with the marker for `[[ ## completed ## ]]`.\n",
      "\n",
      "\n",
      "\u001b[31mResponse:\u001b[0m\n",
      "\n",
      "\u001b[32m[[ ## answer ## ]]\n",
      "October 26th\n",
      "\n",
      "[[ ## completed ## ]]\u001b[0m\n",
      "\n",
      "\n",
      "\n",
      "\n",
      "\n"
     ]
    }
   ],
   "source": [
    "dspy.inspect_history(n=1)"
   ]
  },
  {
   "cell_type": "code",
   "execution_count": 13,
   "id": "9c80803a-54e6-4738-8092-db1f79435c3e",
   "metadata": {},
   "outputs": [
    {
     "data": {
      "text/plain": [
       "Prediction(\n",
       "    reasoning='{The reasoning field is where you would provide a detailed thought process or explanation based on the input question. It should be structured in a way that clearly shows how you arrived at your answer.}',\n",
       "    response='{The response field is where you provide a concise and direct answer to the question, typically one or two sentences long. It should be clear and to the point, summarizing the key points from your reasoning.}'\n",
       ")"
      ]
     },
     "execution_count": 13,
     "metadata": {},
     "output_type": "execute_result"
    }
   ],
   "source": [
    "cot = dspy.ChainOfThought('question -> response')\n",
    "cot(question=\"should curly braces appear on their own line?\")"
   ]
  },
  {
   "cell_type": "code",
   "execution_count": 20,
   "id": "fc710b0a-d387-4d62-a975-f8d04c485675",
   "metadata": {},
   "outputs": [],
   "source": [
    "# with open(\"./data/ragqa_arena_tech_examples.jsonl\") as f:\n",
    "#     data = [ujson.loads(line) for line in f]"
   ]
  },
  {
   "cell_type": "markdown",
   "id": "68fb6053-ae91-4c26-8e51-f5b13950c7d6",
   "metadata": {},
   "source": [
    "### Basic RAG\n",
    "- dspy.Embedder: https://dspy.ai/api/models/Embedder/\n",
    "- multihop Search: https://dspy.ai/tutorials/multihop_search/?h=search"
   ]
  },
  {
   "cell_type": "code",
   "execution_count": 11,
   "id": "aa443466-0f70-4946-a899-84ca853a3629",
   "metadata": {},
   "outputs": [
    {
     "name": "stdout",
     "output_type": "stream",
     "text": [
      "Loaded 145 documents. Will encode them below.\n"
     ]
    }
   ],
   "source": [
    "max_characters = 6000  # for truncating >99th percentile of documents\n",
    "topk_docs_to_retrieve = 5  # number of documents to retrieve per search query\n",
    "qKey = \"Question\"\n",
    "qAns = \"Answer\"\n",
    "df = pd.read_csv(\"../prompt_augment_data/data/qa.csv\")\n",
    "df_clean = df.groupby(qKey)[qAns].apply(lambda x: '\\n'.join(x.unique())).reset_index()\n",
    "df_clean[qAns] = df_clean[qAns].str.replace(r'(\\w+)\\s*=\\s*(\\d+)', r'\\1=\\2', regex=True)\n",
    "answers = df_clean[qAns].str.strip().tolist()\n",
    "print(f\"Loaded {len(answers)} documents. Will encode them below.\")\n",
    "model = SentenceTransformer(\"sentence-transformers/static-retrieval-mrl-en-v1\", device=\"cpu\")\n",
    "embedder = dspy.Embedder(model=model.encode, dimensions=512)\n",
    "search = dspy.retrievers.Embeddings(embedder=embedder, corpus=answers, k=topk_docs_to_retrieve)"
   ]
  },
  {
   "cell_type": "code",
   "execution_count": 12,
   "id": "af952782-3d44-4a60-8157-5550b1fdd15b",
   "metadata": {},
   "outputs": [
    {
     "data": {
      "text/plain": [
       "'PPT Control set manual, if the parameters below remain 0, they are disabled.\\nThermal Control set manual'"
      ]
     },
     "execution_count": 12,
     "metadata": {},
     "output_type": "execute_result"
    }
   ],
   "source": [
    "answers[1]"
   ]
  },
  {
   "cell_type": "code",
   "execution_count": 13,
   "id": "6d4ed7ae-2576-4533-a0f5-12996c8be92d",
   "metadata": {},
   "outputs": [],
   "source": [
    "class RAG(dspy.Module):\n",
    "    def __init__(self):\n",
    "        self.respond=dspy.ChainOfThought('context, question -> answer');\n",
    "\n",
    "    def forward(self,question):\n",
    "        context = search(question).passages\n",
    "        return self.respond(context=context, question=question)"
   ]
  },
  {
   "cell_type": "code",
   "execution_count": null,
   "id": "3664c13e-a525-46fc-a185-ecf7f9be9156",
   "metadata": {},
   "outputs": [],
   "source": [
    "rag = RAG();"
   ]
  },
  {
   "cell_type": "code",
   "execution_count": 15,
   "id": "c4b10937-7bfc-41df-8888-e8e8a1964e89",
   "metadata": {},
   "outputs": [
    {
     "name": "stdout",
     "output_type": "stream",
     "text": [
      "Prediction(\n",
      "    reasoning='The problem with code address 0xabe4 is likely related to system reboot times. The patch suggests disabling gEfiAmdAgesaPkgTokenSpaceGuid.PcdAcpController, which can help fix long reboot times that may be causing the hangup at this specific address.',\n",
      "    answer='To fix the hangup issue at code address 0xabe4:\\n1. Locate the system configuration file where `gEfiAmdAgesaPkgTokenSpaceGuid.PcdAcpController` is defined.\\n2. Set its value to `FALSE`.\\n3. Apply this change to resolve the hangup problem.'\n",
      ")\n"
     ]
    }
   ],
   "source": [
    "print(rag(question=\"how to fix hang up 0xabe4?\"));"
   ]
  },
  {
   "cell_type": "code",
   "execution_count": 18,
   "id": "a5e72b27-5e23-49aa-b419-1eaa7cc7c6a3",
   "metadata": {},
   "outputs": [
    {
     "name": "stdout",
     "output_type": "stream",
     "text": [
      "Prediction(\n",
      "    reasoning='The question asks about customizing the Aquarius password behavior. The context provided includes a file named \"Aquarius Password behavior.zip,\" which is likely related to this customization.',\n",
      "    answer='To customize the Aquarius password behavior, you can refer to the patch file `Aquarius Password behavior.zip`. This file contains the necessary configurations or scripts needed for the customization process.'\n",
      ")\n"
     ]
    }
   ],
   "source": [
    "print(rag(question=\"aquarius password behavior customizing\"))"
   ]
  },
  {
   "cell_type": "code",
   "execution_count": 19,
   "id": "d8ec323a-305a-4caf-ab7f-8d05df56c31e",
   "metadata": {},
   "outputs": [
    {
     "name": "stdout",
     "output_type": "stream",
     "text": [
      "Prediction(\n",
      "    reasoning='The context provided mentions issues related to hardware configurations and APU (Accelerated Processing Unit) settings, specifically regarding power limits when certain PPT APU only values are set. However, the question pertains to \"aquarius passwords customization behavior,\" which is not directly addressed in the given context.',\n",
      "    answer='To address password customization behavior for Aquarius, additional information or specific details about the system configuration and intended modifications would be required. Please provide more context or clarify your requirements so that I can assist you effectively.'\n",
      ")\n"
     ]
    }
   ],
   "source": [
    "print(rag(question=\"aquarius密碼客製化行為\"))"
   ]
  },
  {
   "cell_type": "code",
   "execution_count": 20,
   "id": "3f165d04-570f-4e91-98ca-62c37908cf83",
   "metadata": {},
   "outputs": [
    {
     "name": "stdout",
     "output_type": "stream",
     "text": [
      "Prediction(\n",
      "    reasoning='The context indicates that there are existing solutions related to fixing BSOD issues with D3Hot and NVMe HDDs. However, since these attempts have not resolved the issue, it suggests exploring alternative configurations or additional patches.',\n",
      "    answer='To address the BSOD prevention, refer to the patch file `NmiBsodStudy.zip` for further troubleshooting steps.'\n",
      ")\n"
     ]
    }
   ],
   "source": [
    "print(rag(question=\"BSOD\"))"
   ]
  },
  {
   "cell_type": "code",
   "execution_count": 21,
   "id": "225ae1f3-71b6-4287-a472-6d73d5bf75cb",
   "metadata": {},
   "outputs": [
    {
     "name": "stdout",
     "output_type": "stream",
     "text": [
      "\n",
      "\n",
      "\n",
      "\n",
      "\u001b[34m[2025-02-25T12:12:51.605656]\u001b[0m\n",
      "\n",
      "\u001b[31mSystem message:\u001b[0m\n",
      "\n",
      "Your input fields are:\n",
      "1. `context` (str)\n",
      "2. `question` (str)\n",
      "\n",
      "Your output fields are:\n",
      "1. `reasoning` (str)\n",
      "2. `answer` (str)\n",
      "\n",
      "All interactions will be structured in the following way, with the appropriate values filled in.\n",
      "\n",
      "[[ ## context ## ]]\n",
      "{context}\n",
      "\n",
      "[[ ## question ## ]]\n",
      "{question}\n",
      "\n",
      "[[ ## reasoning ## ]]\n",
      "{reasoning}\n",
      "\n",
      "[[ ## answer ## ]]\n",
      "{answer}\n",
      "\n",
      "[[ ## completed ## ]]\n",
      "\n",
      "In adhering to this structure, your objective is: \n",
      "        Given the fields `context`, `question`, produce the fields `answer`.\n",
      "\n",
      "\n",
      "\u001b[31mUser message:\u001b[0m\n",
      "\n",
      "[[ ## context ## ]]\n",
      "[1] «Revise the code to configure the Flash BIOS update sequence to prevent BSOD issues occurring under the operating system.»\n",
      "[2] «Revise the code to configure the Flash BIOS update sequence to prevent BSOD issues occurring under the operating system.»\n",
      "[3] «Refer to patch: NVMe HDD password for D3Hot fix bsod critical process died.7z»\n",
      "[4] «««\n",
      "    This is caused by the NVMe drive not supporting \n",
      "    D3Hot. Please refer to the code in the file D3Hot fix bsod critical process died.7z\n",
      "»»»\n",
      "[5] «Please refer to the code in the file NmiBsodStudy.zip»\n",
      "\n",
      "[[ ## question ## ]]\n",
      "BSOD\n",
      "\n",
      "Respond with the corresponding output fields, starting with the field `[[ ## reasoning ## ]]`, then `[[ ## answer ## ]]`, and then ending with the marker for `[[ ## completed ## ]]`.\n",
      "\n",
      "\n",
      "\u001b[31mResponse:\u001b[0m\n",
      "\n",
      "\u001b[32m[[ ## reasoning ## ]]\n",
      "The context indicates that there are existing solutions related to fixing BSOD issues with D3Hot and NVMe HDDs. However, since these attempts have not resolved the issue, it suggests exploring alternative configurations or additional patches.\n",
      "\n",
      "[[ ## answer ## ]]\n",
      "To address the BSOD prevention, refer to the patch file `NmiBsodStudy.zip` for further troubleshooting steps.\n",
      "\n",
      "[[ ## completed ## ]]\u001b[0m\n",
      "\n",
      "\n",
      "\n",
      "\n",
      "\n"
     ]
    }
   ],
   "source": [
    "dspy.inspect_history()"
   ]
  },
  {
   "cell_type": "code",
   "execution_count": null,
   "id": "2e283048-bd3c-4f2c-b789-4b2b47084afa",
   "metadata": {},
   "outputs": [],
   "source": []
  }
 ],
 "metadata": {
  "kernelspec": {
   "display_name": "Python 3 (ipykernel)",
   "language": "python",
   "name": "python3"
  },
  "language_info": {
   "codemirror_mode": {
    "name": "ipython",
    "version": 3
   },
   "file_extension": ".py",
   "mimetype": "text/x-python",
   "name": "python",
   "nbconvert_exporter": "python",
   "pygments_lexer": "ipython3",
   "version": "3.11.11"
  }
 },
 "nbformat": 4,
 "nbformat_minor": 5
}
